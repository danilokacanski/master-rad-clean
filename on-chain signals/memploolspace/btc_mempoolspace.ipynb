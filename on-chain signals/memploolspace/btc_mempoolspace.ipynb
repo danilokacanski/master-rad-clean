{
 "cells": [
  {
   "cell_type": "code",
   "id": "initial_id",
   "metadata": {
    "collapsed": true,
    "ExecuteTime": {
     "end_time": "2025-08-18T14:57:15.250524Z",
     "start_time": "2025-08-18T14:57:14.735221Z"
    }
   },
   "source": [
    "# BTC mempool & fee recommendations (mempool.space)\n",
    "\n",
    "import pandas as pd, requests\n",
    "from pathlib import Path\n",
    "\n",
    "BASE = \"https://mempool.space/api\"\n",
    "\n",
    "fees = requests.get(f\"{BASE}/v1/fees/recommended\").json()\n",
    "mempool = requests.get(f\"{BASE}/mempool\").json()\n",
    "blocks = requests.get(f\"{BASE}/blocks\").json()  # ~10 latest\n",
    "\n",
    "df_fees = (pd.DataFrame([fees])\n",
    "           .assign(ts=pd.Timestamp.utcnow())\n",
    "           .rename(columns={\"fastestFee\":\"sat_vb_fast\",\"halfHourFee\":\"sat_vb_30m\",\n",
    "                            \"hourFee\":\"sat_vb_1h\",\"economyFee\":\"sat_vb_econ\",\n",
    "                            \"minimumFee\":\"sat_vb_min\"}))\n",
    "\n",
    "df_mempool = pd.DataFrame([mempool]).assign(ts=pd.Timestamp.utcnow())\n",
    "df_blocks = pd.DataFrame(blocks)\n",
    "if not df_blocks.empty:\n",
    "    df_blocks[\"timestamp\"] = pd.to_datetime(df_blocks[\"timestamp\"], unit=\"s\", utc=True)\n",
    "\n",
    "out = \"mempoolspace_data\"\n",
    "Path(out).mkdir(parents=True, exist_ok=True)\n",
    "df_fees.to_csv(out + \"fees_recommended.csv\", index=False)\n",
    "df_mempool.to_csv(out + \"mempool_summary.csv\", index=False)\n",
    "df_blocks.to_csv(out + \"recent_blocks.csv\", index=False)\n",
    "\n",
    "df_fees, df_mempool.head(), df_blocks.head()"
   ],
   "outputs": [
    {
     "data": {
      "text/plain": [
       "(   sat_vb_fast  sat_vb_30m  sat_vb_1h  sat_vb_econ  sat_vb_min  \\\n",
       " 0            3           3          1            1           1   \n",
       " \n",
       "                                 ts  \n",
       " 0 2025-08-18 14:57:15.224747+00:00  ,\n",
       "    count     vsize  total_fee  \\\n",
       " 0  76436  23755878    8008179   \n",
       " \n",
       "                                        fee_histogram  \\\n",
       " 0  [[8.019624, 50528], [5.1621623, 50468], [4.055...   \n",
       " \n",
       "                                 ts  \n",
       " 0 2025-08-18 14:57:15.228118+00:00  ,\n",
       "                                                   id  height    version  \\\n",
       " 0  0000000000000000000069b6919498f6a3451cc20e5509...  910623  560996352   \n",
       " 1  00000000000000000001bfa37ed3d83ed2b6f77e31f2b8...  910622  973078528   \n",
       " 2  00000000000000000000db772361265f6a4a1fe6a91314...  910621  577380352   \n",
       " 3  0000000000000000000191601b31b8701e3bfdd09f3dee...  910620  548159488   \n",
       " 4  000000000000000000015bf561b4c83cbf07d89f887f92...  910619  625074176   \n",
       " \n",
       "                   timestamp  tx_count     size   weight  \\\n",
       " 0 2025-08-18 14:40:04+00:00      3096  1617272  3993974   \n",
       " 1 2025-08-18 14:34:38+00:00      4006  1592952  3995148   \n",
       " 2 2025-08-18 14:05:33+00:00      3986  1663188  3993351   \n",
       " 3 2025-08-18 14:00:28+00:00      2074  3008207  3993704   \n",
       " 4 2025-08-18 14:00:19+00:00      4750  1691584  3994087   \n",
       " \n",
       "                                          merkle_root  \\\n",
       " 0  1291cf0c2e65679f55b0db6f0f69a93cf65565c70b42a7...   \n",
       " 1  3a2b53c75e710995ac50afde4ef076557ad305218559d7...   \n",
       " 2  3fd93fcc63d1003a8af74d0c2d1146c41f70213a529edf...   \n",
       " 3  b217658e9af9f892f554eba6d1395ef8030e6873573116...   \n",
       " 4  60dc553550c640de3b5165e153cbfee17c0d6db26b05cb...   \n",
       " \n",
       "                                    previousblockhash  mediantime       nonce  \\\n",
       " 0  00000000000000000001bfa37ed3d83ed2b6f77e31f2b8...  1755525610   816838503   \n",
       " 1  00000000000000000000db772361265f6a4a1fe6a91314...  1755524907  1284275574   \n",
       " 2  0000000000000000000191601b31b8701e3bfdd09f3dee...  1755524670   126921796   \n",
       " 3  000000000000000000015bf561b4c83cbf07d89f887f92...  1755524570  3616753680   \n",
       " 4  0000000000000000000174e957a48732acd3ee85987f48...  1755523636  2499424575   \n",
       " \n",
       "         bits    difficulty  \n",
       " 0  386018483  1.294352e+14  \n",
       " 1  386018483  1.294352e+14  \n",
       " 2  386018483  1.294352e+14  \n",
       " 3  386018483  1.294352e+14  \n",
       " 4  386018483  1.294352e+14  )"
      ]
     },
     "execution_count": 1,
     "metadata": {},
     "output_type": "execute_result"
    }
   ],
   "execution_count": 1
  },
  {
   "metadata": {},
   "cell_type": "code",
   "outputs": [],
   "execution_count": null,
   "source": "",
   "id": "1a0b9746fe726f2"
  }
 ],
 "metadata": {
  "kernelspec": {
   "display_name": "Python 3",
   "language": "python",
   "name": "python3"
  },
  "language_info": {
   "codemirror_mode": {
    "name": "ipython",
    "version": 2
   },
   "file_extension": ".py",
   "mimetype": "text/x-python",
   "name": "python",
   "nbconvert_exporter": "python",
   "pygments_lexer": "ipython2",
   "version": "2.7.6"
  }
 },
 "nbformat": 4,
 "nbformat_minor": 5
}
