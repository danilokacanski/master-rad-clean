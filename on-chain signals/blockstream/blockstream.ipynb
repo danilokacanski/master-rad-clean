{
 "cells": [
  {
   "cell_type": "code",
   "id": "initial_id",
   "metadata": {
    "collapsed": true,
    "ExecuteTime": {
     "end_time": "2025-08-18T10:32:35.879534Z",
     "start_time": "2025-08-18T10:31:29.344913Z"
    }
   },
   "source": [
    "# BTC on-chain (per-block) via Blockstream/Esplora – no API key needed\n",
    "import requests, time\n",
    "import pandas as pd\n",
    "from datetime import datetime, timezone\n",
    "\n",
    "BASE = \"https://blockstream.info/api\"   # mainnet\n",
    "N_BLOCKS = 50                           # how many latest blocks to pull\n",
    "\n",
    "def get_json(url):\n",
    "    r = requests.get(url, timeout=30)\n",
    "    r.raise_for_status()\n",
    "    return r.json()\n",
    "\n",
    "def get_tip_height():\n",
    "    return int(requests.get(f\"{BASE}/blocks/tip/height\", timeout=15).text)\n",
    "\n",
    "def get_block_hash(height: int):\n",
    "    return requests.get(f\"{BASE}/block-height/{height}\", timeout=15).text.strip()\n",
    "\n",
    "def get_block_info(block_hash: str) -> dict:\n",
    "    return get_json(f\"{BASE}/block/{block_hash}\")\n",
    "\n",
    "rows = []\n",
    "tip = get_tip_height()\n",
    "start_h = max(0, tip - N_BLOCKS + 1)\n",
    "\n",
    "for h in range(tip, start_h - 1, -1):  # newest → oldest\n",
    "    try:\n",
    "        bh = get_block_hash(h)\n",
    "        b = get_block_info(bh)\n",
    "        rows.append({\n",
    "            \"height\": h,\n",
    "            \"hash\": bh,\n",
    "            \"timestamp\": datetime.fromtimestamp(b.get(\"timestamp\", 0), tz=timezone.utc),\n",
    "            \"tx_count\": b.get(\"tx_count\"),\n",
    "            \"size_bytes\": b.get(\"size\"),\n",
    "            \"weight\": b.get(\"weight\"),\n",
    "            \"version\": b.get(\"version\"),\n",
    "            \"bits\": b.get(\"bits\"),\n",
    "            \"merkle_root\": b.get(\"merkle_root\"),\n",
    "            \"nonce\": b.get(\"nonce\"),\n",
    "            \"prev_block\": b.get(\"prev_hash\"),\n",
    "            \"mediantime\": datetime.fromtimestamp(b.get(\"mediantime\", 0), tz=timezone.utc) if b.get(\"mediantime\") else None,\n",
    "        })\n",
    "        if len(rows) % 50 == 0:\n",
    "            print(f\"Fetched {len(rows)} blocks… latest height {h}\")\n",
    "        time.sleep(0.15)   # be polite\n",
    "    except Exception as e:\n",
    "        print(f\"[warn] height {h}: {e}\")\n",
    "        time.sleep(0.5)\n",
    "\n",
    "btc_blocks = pd.DataFrame(rows).sort_values(\"height\").reset_index(drop=True)\n",
    "btc_blocks.to_csv(\"btc_blocks_latest.csv\", index=False)\n",
    "try:\n",
    "    btc_blocks.to_parquet(\"btc_blocks_latest.parquet\", index=False)\n",
    "except Exception as e:\n",
    "    print(f\"[parquet skip] {e}\")\n",
    "\n",
    "print(btc_blocks.tail(3))"
   ],
   "outputs": [
    {
     "name": "stdout",
     "output_type": "stream",
     "text": [
      "Fetched 50 blocks… latest height 910537\n",
      "    height                                               hash  \\\n",
      "47  910584  0000000000000000000192a49544b21352a1902bfaac49...   \n",
      "48  910585  000000000000000000019ee6252952eb5e8c8c45cd61c3...   \n",
      "49  910586  00000000000000000001d13b30bc72483fb95dc62b4413...   \n",
      "\n",
      "                   timestamp  tx_count  size_bytes   weight    version  \\\n",
      "47 2025-08-18 09:42:05+00:00      3751     2363812  3993691  537280512   \n",
      "48 2025-08-18 10:06:25+00:00      3484     1588561  3993589  611246080   \n",
      "49 2025-08-18 10:26:37+00:00      3549     1586232  3993915  547356672   \n",
      "\n",
      "         bits                                        merkle_root       nonce  \\\n",
      "47  386018483  be633a29400e78c8fb61d725abdf36d7afc8cb72b705b0...  2901414244   \n",
      "48  386018483  20e19847bcebac0b0d892b8e0b4788e3967800615ea686...  1357426306   \n",
      "49  386018483  b09cc4dbf663579f899a01af5cd0a5f8067b736456ad55...  3852746858   \n",
      "\n",
      "   prev_block                mediantime  \n",
      "47       None 2025-08-18 09:12:16+00:00  \n",
      "48       None 2025-08-18 09:22:52+00:00  \n",
      "49       None 2025-08-18 09:26:32+00:00  \n"
     ]
    }
   ],
   "execution_count": 2
  },
  {
   "metadata": {
    "ExecuteTime": {
     "end_time": "2025-08-18T10:34:55.006886Z",
     "start_time": "2025-08-18T10:34:55.000010Z"
    }
   },
   "cell_type": "code",
   "source": [
    "daily = (btc_blocks\n",
    "         .assign(date=btc_blocks[\"timestamp\"].dt.floor(\"D\"))\n",
    "         .groupby(\"date\", as_index=False)\n",
    "         .agg(tx_count_day=(\"tx_count\",\"sum\"),\n",
    "              blocks=(\"height\",\"count\"),\n",
    "              avg_weight=(\"weight\",\"mean\"),\n",
    "              avg_size=(\"size_bytes\",\"mean\")))\n",
    "daily.to_csv(\"btc_daily_block_stats.csv\", index=False)"
   ],
   "id": "87142d98b77d2896",
   "outputs": [],
   "execution_count": 3
  },
  {
   "metadata": {},
   "cell_type": "code",
   "outputs": [],
   "execution_count": null,
   "source": "",
   "id": "24d3483f3d978fcb"
  }
 ],
 "metadata": {
  "kernelspec": {
   "display_name": "Python 3",
   "language": "python",
   "name": "python3"
  },
  "language_info": {
   "codemirror_mode": {
    "name": "ipython",
    "version": 2
   },
   "file_extension": ".py",
   "mimetype": "text/x-python",
   "name": "python",
   "nbconvert_exporter": "python",
   "pygments_lexer": "ipython2",
   "version": "2.7.6"
  }
 },
 "nbformat": 4,
 "nbformat_minor": 5
}
