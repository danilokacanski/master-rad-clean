{
 "cells": [
  {
   "cell_type": "code",
   "id": "initial_id",
   "metadata": {
    "collapsed": true,
    "ExecuteTime": {
     "end_time": "2025-08-17T19:36:00.653180Z",
     "start_time": "2025-08-17T19:35:59.220367Z"
    }
   },
   "source": [
    "import requests\n",
    "import os\n",
    "from dotenv import load_dotenv\n",
    "\n",
    "# Load variables from .env file\n",
    "load_dotenv()\n",
    "\n",
    "API_KEY = os.getenv(\"ETHERSCAN_API_KEY\")\n",
    "\n",
    "if not API_KEY:\n",
    "    raise ValueError(\"ETHERSCAN_API_KEY not found. Check your .env file!\")\n",
    "\n",
    "# Latest block\n",
    "url = f\"https://api.etherscan.io/api?module=proxy&action=eth_blockNumber&apikey={API_KEY}\"\n",
    "block_num = int(requests.get(url).json()[\"result\"], 16)\n",
    "\n",
    "# Get block details\n",
    "url = f\"https://api.etherscan.io/api?module=proxy&action=eth_getBlockByNumber&tag={hex(block_num)}&boolean=true&apikey={API_KEY}\"\n",
    "block_data = requests.get(url).json()[\"result\"]\n",
    "\n",
    "print(\"Block Number:\", block_num)\n",
    "print(\"Transactions:\", len(block_data[\"transactions\"]))\n",
    "print(\"Gas Used:\", int(block_data[\"gasUsed\"], 16))"
   ],
   "outputs": [
    {
     "name": "stdout",
     "output_type": "stream",
     "text": [
      "Block Number: 23162904\n",
      "Transactions: 123\n",
      "Gas Used: 14083846\n"
     ]
    }
   ],
   "execution_count": 11
  },
  {
   "metadata": {},
   "cell_type": "code",
   "outputs": [],
   "execution_count": null,
   "source": "",
   "id": "d587c4663e5cdbf6"
  },
  {
   "metadata": {},
   "cell_type": "code",
   "outputs": [],
   "execution_count": null,
   "source": "",
   "id": "c391df5f366487ad"
  },
  {
   "metadata": {},
   "cell_type": "code",
   "outputs": [],
   "source": "",
   "id": "21241d90cf00684e",
   "execution_count": null
  }
 ],
 "metadata": {
  "kernelspec": {
   "display_name": "Python 3",
   "language": "python",
   "name": "python3"
  },
  "language_info": {
   "codemirror_mode": {
    "name": "ipython",
    "version": 2
   },
   "file_extension": ".py",
   "mimetype": "text/x-python",
   "name": "python",
   "nbconvert_exporter": "python",
   "pygments_lexer": "ipython2",
   "version": "2.7.6"
  }
 },
 "nbformat": 4,
 "nbformat_minor": 5
}
