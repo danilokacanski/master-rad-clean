{
 "cells": [
  {
   "metadata": {
    "ExecuteTime": {
     "end_time": "2025-08-17T12:01:48.997722Z",
     "start_time": "2025-08-17T12:01:48.572854Z"
    }
   },
   "cell_type": "code",
   "source": [
    "import os\n",
    "import time\n",
    "import pandas as pd\n",
    "from dotenv import load_dotenv\n",
    "import tweepy"
   ],
   "id": "c3f5760f723f1fed",
   "outputs": [],
   "execution_count": 1
  },
  {
   "metadata": {
    "ExecuteTime": {
     "end_time": "2025-08-17T12:02:49.858824Z",
     "start_time": "2025-08-17T12:02:49.853854Z"
    }
   },
   "cell_type": "code",
   "source": [
    "load_dotenv()\n",
    "bearer_token = os.getenv(\"X_BEARER_TOKEN\")"
   ],
   "id": "afbbaec19d25f1af",
   "outputs": [],
   "execution_count": 5
  },
  {
   "metadata": {
    "ExecuteTime": {
     "end_time": "2025-08-17T12:02:50.316019Z",
     "start_time": "2025-08-17T12:02:50.313018Z"
    }
   },
   "cell_type": "code",
   "source": "print(bearer_token)",
   "id": "fd86d33c3b87567c",
   "outputs": [
    {
     "name": "stdout",
     "output_type": "stream",
     "text": [
      "AAAAAAAAAAAAAAAAAAAAANV83gEAAAAAUSIrrdj9j88RpK5oXWz2CA5ZS4k%3Dmwm9dspLAdD3wVJiSC8uFHHoea9HzRvHfiaFp3CtFZogRE0gUZ\n"
     ]
    }
   ],
   "execution_count": 6
  },
  {
   "metadata": {
    "ExecuteTime": {
     "end_time": "2025-08-17T12:03:07.269846Z",
     "start_time": "2025-08-17T12:03:07.268047Z"
    }
   },
   "cell_type": "code",
   "source": "client = tweepy.Client(bearer_token=bearer_token, wait_on_rate_limit=True)",
   "id": "ee3606c36960568f",
   "outputs": [],
   "execution_count": 7
  },
  {
   "metadata": {
    "ExecuteTime": {
     "end_time": "2025-08-17T15:56:19.627986Z",
     "start_time": "2025-08-17T15:56:18.779350Z"
    }
   },
   "cell_type": "code",
   "source": [
    "# === 2. Resolve Will Clemente's user id ===\n",
    "user_resp = client.get_user(username=\"WClementeIII\")\n",
    "user_id = user_resp.data.id\n",
    "print(\"User ID for Will Clemente:\", user_id)\n",
    "\n",
    "# === 3. Fetch tweets ===\n",
    "tweet_fields = [\"created_at\",\"public_metrics\",\"text\",\"lang\",\"source\"]\n",
    "tweets = []\n",
    "\n",
    "# get_users_tweets = up to 100 per request\n",
    "response = client.get_users_tweets(\n",
    "    id=user_id,\n",
    "    max_results=100,           # max allowed per page\n",
    "    tweet_fields=tweet_fields,\n",
    "    exclude=[\"retweets\",\"replies\"]  # optional: only originals\n",
    ")\n",
    "\n",
    "if response.data:\n",
    "    for t in response.data:\n",
    "        pm = t.public_metrics\n",
    "        tweets.append({\n",
    "            \"id\": t.id,\n",
    "            \"created_at\": t.created_at,\n",
    "            \"text\": t.text,\n",
    "            \"retweets\": pm[\"retweet_count\"],\n",
    "            \"replies\": pm[\"reply_count\"],\n",
    "            \"likes\": pm[\"like_count\"],\n",
    "            \"quotes\": pm[\"quote_count\"],\n",
    "        })\n",
    "\n",
    "# === 4. Save results ===\n",
    "df = pd.DataFrame(tweets)\n",
    "print(df.head())\n",
    "\n",
    "df.to_csv(\"will_clemente_tweets.csv\", index=False)\n",
    "print(f\"Saved {len(df)} tweets to CSV.\")"
   ],
   "id": "d2980a149c5cc9dc",
   "outputs": [
    {
     "name": "stdout",
     "output_type": "stream",
     "text": [
      "User ID for Will Clemente: 1270906326823186432\n",
      "                    id                created_at  \\\n",
      "0  1956416859546275953 2025-08-15 18:05:02+00:00   \n",
      "1  1956416856270467506 2025-08-15 18:05:01+00:00   \n",
      "2  1956169633448243352 2025-08-15 01:42:39+00:00   \n",
      "3  1956021904642392380 2025-08-14 15:55:37+00:00   \n",
      "4  1955772190722249050 2025-08-13 23:23:21+00:00   \n",
      "\n",
      "                                                text  retweets  replies  \\\n",
      "0  This idea seems to be best represented through...         0        4   \n",
      "1  US 30y yields are a bullish chart that should ...         8       23   \n",
      "2  One thing that sucks about getting older is th...        21       91   \n",
      "3  Who is this infinite seller on glxy above 29 m...        15       40   \n",
      "4  No lie just saw this walking down the street l...        40       63   \n",
      "\n",
      "   likes  quotes  \n",
      "0     34       0  \n",
      "1    114       2  \n",
      "2    570       1  \n",
      "3    322       0  \n",
      "4   1092       4  \n",
      "Saved 99 tweets to CSV.\n"
     ]
    }
   ],
   "execution_count": 10
  }
 ],
 "metadata": {
  "kernelspec": {
   "display_name": "Python 3",
   "language": "python",
   "name": "python3"
  },
  "language_info": {
   "codemirror_mode": {
    "name": "ipython",
    "version": 2
   },
   "file_extension": ".py",
   "mimetype": "text/x-python",
   "name": "python",
   "nbconvert_exporter": "python",
   "pygments_lexer": "ipython2",
   "version": "2.7.6"
  }
 },
 "nbformat": 4,
 "nbformat_minor": 5
}
