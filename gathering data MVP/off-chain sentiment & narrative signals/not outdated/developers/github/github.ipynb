{
 "cells": [
  {
   "cell_type": "code",
   "id": "initial_id",
   "metadata": {
    "collapsed": true,
    "ExecuteTime": {
     "end_time": "2025-08-18T15:19:21.554899Z",
     "start_time": "2025-08-18T15:19:21.044726Z"
    }
   },
   "source": [
    "import requests, pandas as pd, os\n",
    "from datetime import datetime\n",
    "from dotenv import load_dotenv\n",
    "\n",
    "load_dotenv()\n",
    "GITHUB_TOKEN = os.getenv(\"GITHUB_TOKEN\")  # set in .env\n",
    "headers = {\"Authorization\": f\"token {GITHUB_TOKEN}\"}\n",
    "\n",
    "# Example: Ethereum repo\n",
    "owner, repo = \"ethereum\", \"go-ethereum\"\n",
    "url = f\"https://api.github.com/repos/{owner}/{repo}/commits\"\n",
    "\n",
    "r = requests.get(url, headers=headers, params={\"per_page\": 100})\n",
    "r.raise_for_status()\n",
    "commits = r.json()\n",
    "\n",
    "rows = []\n",
    "for c in commits:\n",
    "    rows.append({\n",
    "        \"sha\": c[\"sha\"],\n",
    "        \"author\": c[\"commit\"][\"author\"][\"name\"],\n",
    "        \"date\": c[\"commit\"][\"author\"][\"date\"],\n",
    "        \"message\": c[\"commit\"][\"message\"]\n",
    "    })\n",
    "\n",
    "df = pd.DataFrame(rows)\n",
    "out = \"github_data.csv\"\n",
    "df.to_csv(out, index=False)\n",
    "print(f\"Saved {len(df)} commits -> {out}\")\n",
    "df.head()"
   ],
   "outputs": [
    {
     "name": "stdout",
     "output_type": "stream",
     "text": [
      "Saved 100 commits -> github_data.csv\n"
     ]
    },
    {
     "data": {
      "text/plain": [
       "                                        sha       author  \\\n",
       "0  5b2fc67eeef09b76a93dab3d93b15b725aaf1259   kevaundray   \n",
       "1  85077be58edea572f29c3b1a6a055077f1a56a8b   kevaundray   \n",
       "2  a9a19c4202161347559d30f295fc268e18a4a089    jwasinger   \n",
       "3  1693a48f8cf227f77c66457261a5a53938221ce7  Felix Lange   \n",
       "4  1d29e3ec0ed0afc7c2cc7ebe2b4b694cc5485b9a  Felix Lange   \n",
       "\n",
       "                   date                                            message  \n",
       "0  2025-08-18T12:42:22Z  core/rawdb: add non-unix alternative for table...  \n",
       "1  2025-08-18T06:15:48Z  metrics: add tinygo build flag for CPU time (#...  \n",
       "2  2025-08-15T13:58:00Z  core/vm: fix EIP-7823 modexp input length chec...  \n",
       "3  2025-08-15T12:08:27Z  rlp: remove workaround for Value.Bytes (#32433...  \n",
       "4  2025-08-15T12:07:27Z  consensus/misc/eip4844: use blob parameters of...  "
      ],
      "text/html": [
       "<div>\n",
       "<style scoped>\n",
       "    .dataframe tbody tr th:only-of-type {\n",
       "        vertical-align: middle;\n",
       "    }\n",
       "\n",
       "    .dataframe tbody tr th {\n",
       "        vertical-align: top;\n",
       "    }\n",
       "\n",
       "    .dataframe thead th {\n",
       "        text-align: right;\n",
       "    }\n",
       "</style>\n",
       "<table border=\"1\" class=\"dataframe\">\n",
       "  <thead>\n",
       "    <tr style=\"text-align: right;\">\n",
       "      <th></th>\n",
       "      <th>sha</th>\n",
       "      <th>author</th>\n",
       "      <th>date</th>\n",
       "      <th>message</th>\n",
       "    </tr>\n",
       "  </thead>\n",
       "  <tbody>\n",
       "    <tr>\n",
       "      <th>0</th>\n",
       "      <td>5b2fc67eeef09b76a93dab3d93b15b725aaf1259</td>\n",
       "      <td>kevaundray</td>\n",
       "      <td>2025-08-18T12:42:22Z</td>\n",
       "      <td>core/rawdb: add non-unix alternative for table...</td>\n",
       "    </tr>\n",
       "    <tr>\n",
       "      <th>1</th>\n",
       "      <td>85077be58edea572f29c3b1a6a055077f1a56a8b</td>\n",
       "      <td>kevaundray</td>\n",
       "      <td>2025-08-18T06:15:48Z</td>\n",
       "      <td>metrics: add tinygo build flag for CPU time (#...</td>\n",
       "    </tr>\n",
       "    <tr>\n",
       "      <th>2</th>\n",
       "      <td>a9a19c4202161347559d30f295fc268e18a4a089</td>\n",
       "      <td>jwasinger</td>\n",
       "      <td>2025-08-15T13:58:00Z</td>\n",
       "      <td>core/vm: fix EIP-7823 modexp input length chec...</td>\n",
       "    </tr>\n",
       "    <tr>\n",
       "      <th>3</th>\n",
       "      <td>1693a48f8cf227f77c66457261a5a53938221ce7</td>\n",
       "      <td>Felix Lange</td>\n",
       "      <td>2025-08-15T12:08:27Z</td>\n",
       "      <td>rlp: remove workaround for Value.Bytes (#32433...</td>\n",
       "    </tr>\n",
       "    <tr>\n",
       "      <th>4</th>\n",
       "      <td>1d29e3ec0ed0afc7c2cc7ebe2b4b694cc5485b9a</td>\n",
       "      <td>Felix Lange</td>\n",
       "      <td>2025-08-15T12:07:27Z</td>\n",
       "      <td>consensus/misc/eip4844: use blob parameters of...</td>\n",
       "    </tr>\n",
       "  </tbody>\n",
       "</table>\n",
       "</div>"
      ]
     },
     "execution_count": 4,
     "metadata": {},
     "output_type": "execute_result"
    }
   ],
   "execution_count": 4
  },
  {
   "metadata": {},
   "cell_type": "code",
   "outputs": [],
   "execution_count": null,
   "source": "|",
   "id": "7e8399082502c1bd"
  }
 ],
 "metadata": {
  "kernelspec": {
   "display_name": "Python 3",
   "language": "python",
   "name": "python3"
  },
  "language_info": {
   "codemirror_mode": {
    "name": "ipython",
    "version": 2
   },
   "file_extension": ".py",
   "mimetype": "text/x-python",
   "name": "python",
   "nbconvert_exporter": "python",
   "pygments_lexer": "ipython2",
   "version": "2.7.6"
  }
 },
 "nbformat": 4,
 "nbformat_minor": 5
}
